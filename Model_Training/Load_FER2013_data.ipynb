{
 "cells": [
  {
   "cell_type": "code",
   "execution_count": 1,
   "metadata": {
    "scrolled": true
   },
   "outputs": [
    {
     "name": "stderr",
     "output_type": "stream",
     "text": [
      "Using TensorFlow backend.\n"
     ]
    }
   ],
   "source": [
    "'''\n",
    "This is used to load data-set into traning model\n",
    "'''\n",
    "import pandas as pd\n",
    "import cv2\n",
    "import numpy as np\n",
    "import matplotlib.pyplot as plt\n",
    "import keras\n",
    "\n",
    "%matplotlib inline\n",
    "\n",
    "batch_size = 32\n",
    "epochs_num = 100\n",
    "input_shape = (48, 48, 1)\n",
    "\n",
    "def load_data():\n",
    "    \n",
    "    data_path = 'fer2013/fer2013/fer2013.csv'\n",
    "    img_size = (48, 48)\n",
    "    num_emotion = 7\n",
    "    face_train, emotion_train = [], []\n",
    "    face_test, emotion_test = [], []\n",
    "    #count = 0\n",
    "    \n",
    "    data = pd.read_csv(data_path)\n",
    "    num_of_instance = len(data)\n",
    "    print(\"Number of image:\", num_of_instance)\n",
    "    \n",
    "    pixels = data['pixels'].tolist()\n",
    "    emotions = data['emotion'].tolist()\n",
    "    usages = data['Usage'].tolist()\n",
    "    num_of_usages = len(usages)\n",
    "    num_of_emotions = len(emotions)\n",
    "    #print(\"Number of emotions:\", num_of_emotions)\n",
    "    \n",
    "    for emotion,img,usage in zip(emotions,pixels,usages):\n",
    "        try:\n",
    "            emotion = keras.utils.to_categorical(emotion,num_emotion)\n",
    "            pixels = [int(pixel) for pixel in img.split(' ')]\n",
    "            pixels = np.asarray(pixels).reshape(48, 48)\n",
    "            pixels = cv2.resize(pixels.astype('uint8'),img_size)\n",
    "            val = np.array(pixels,'float32')\n",
    "            if(usage == 'Training'):\n",
    "                face_train.append(val)\n",
    "                emotion_train.append(emotion)\n",
    "            elif(usage == 'PublicTest'):\n",
    "                face_test.append(val)\n",
    "                emotion_test.append(emotion)\n",
    "        except:\n",
    "            print(\"Nothing load\")\n",
    "            break\n",
    "           # count = count + 1\n",
    "    \n",
    "    face_train = np.array(face_train)\n",
    "    emotion_train = np.array(emotion_train)\n",
    "    face_train = face_train.reshape(-1,48,48,1)\n",
    "    face_test = np.array(face_test)\n",
    "    emotion_test = np.array(emotion_test)\n",
    "    face_test = face_test.reshape(-1,48,48,1)\n",
    "    print(\"Done\")\n",
    "    \n",
    "    return face_train, emotion_train, face_test, emotion_test;\n"
   ]
  },
  {
   "cell_type": "code",
   "execution_count": null,
   "metadata": {},
   "outputs": [],
   "source": []
  }
 ],
 "metadata": {
  "kernelspec": {
   "display_name": "Python 3",
   "language": "python",
   "name": "python3"
  },
  "language_info": {
   "codemirror_mode": {
    "name": "ipython",
    "version": 3
   },
   "file_extension": ".py",
   "mimetype": "text/x-python",
   "name": "python",
   "nbconvert_exporter": "python",
   "pygments_lexer": "ipython3",
   "version": "3.6.8"
  }
 },
 "nbformat": 4,
 "nbformat_minor": 2
}
