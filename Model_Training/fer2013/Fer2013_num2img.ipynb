{
 "cells": [
  {
   "cell_type": "code",
   "execution_count": 1,
   "metadata": {},
   "outputs": [
    {
     "name": "stdout",
     "output_type": "stream",
     "text": [
      "Processing\n"
     ]
    },
    {
     "ename": "TypeError",
     "evalue": "'module' object is not callable",
     "output_type": "error",
     "traceback": [
      "\u001b[1;31m---------------------------------------------------------------------------\u001b[0m",
      "\u001b[1;31mTypeError\u001b[0m                                 Traceback (most recent call last)",
      "\u001b[1;32m<ipython-input-1-02fa2d4c9cc8>\u001b[0m in \u001b[0;36m<module>\u001b[1;34m\u001b[0m\n\u001b[0;32m     57\u001b[0m \u001b[1;32mif\u001b[0m \u001b[0m__name__\u001b[0m \u001b[1;33m==\u001b[0m \u001b[1;34m'__main__'\u001b[0m\u001b[1;33m:\u001b[0m\u001b[1;33m\u001b[0m\u001b[1;33m\u001b[0m\u001b[0m\n\u001b[0;32m     58\u001b[0m \u001b[1;33m\u001b[0m\u001b[0m\n\u001b[1;32m---> 59\u001b[1;33m     \u001b[0msaveImageFromFer2013\u001b[0m\u001b[1;33m(\u001b[0m\u001b[1;34m'fer2013.csv'\u001b[0m\u001b[1;33m)\u001b[0m\u001b[1;33m\u001b[0m\u001b[1;33m\u001b[0m\u001b[0m\n\u001b[0m",
      "\u001b[1;32m<ipython-input-1-02fa2d4c9cc8>\u001b[0m in \u001b[0;36msaveImageFromFer2013\u001b[1;34m(file)\u001b[0m\n\u001b[0;32m     25\u001b[0m     \u001b[0mimageCount\u001b[0m \u001b[1;33m=\u001b[0m \u001b[1;36m0\u001b[0m\u001b[1;33m\u001b[0m\u001b[1;33m\u001b[0m\u001b[0m\n\u001b[0;32m     26\u001b[0m \u001b[1;33m\u001b[0m\u001b[0m\n\u001b[1;32m---> 27\u001b[1;33m     \u001b[1;32mfor\u001b[0m \u001b[0mindex\u001b[0m \u001b[1;32min\u001b[0m \u001b[0mtqdm\u001b[0m\u001b[1;33m(\u001b[0m\u001b[0mrange\u001b[0m\u001b[1;33m(\u001b[0m\u001b[0mlen\u001b[0m\u001b[1;33m(\u001b[0m\u001b[0mfaces_data\u001b[0m\u001b[1;33m)\u001b[0m\u001b[1;33m)\u001b[0m\u001b[1;33m)\u001b[0m\u001b[1;33m:\u001b[0m\u001b[1;33m\u001b[0m\u001b[1;33m\u001b[0m\u001b[0m\n\u001b[0m\u001b[0;32m     28\u001b[0m \u001b[1;33m\u001b[0m\u001b[0m\n\u001b[0;32m     29\u001b[0m         \u001b[0memotion_data\u001b[0m \u001b[1;33m=\u001b[0m \u001b[0mfaces_data\u001b[0m\u001b[1;33m.\u001b[0m\u001b[0mloc\u001b[0m\u001b[1;33m[\u001b[0m\u001b[0mindex\u001b[0m\u001b[1;33m]\u001b[0m\u001b[1;33m[\u001b[0m\u001b[1;36m0\u001b[0m\u001b[1;33m]\u001b[0m\u001b[1;33m\u001b[0m\u001b[1;33m\u001b[0m\u001b[0m\n",
      "\u001b[1;31mTypeError\u001b[0m: 'module' object is not callable"
     ]
    }
   ],
   "source": [
    "\n",
    "#encoding:utf-8\n",
    "\n",
    "import pandas as pd\n",
    "import numpy as np\n",
    "import scipy.misc as sm\n",
    "import os\n",
    "\n",
    "from PIL import Image\n",
    "\n",
    "emotions = {\n",
    "    \n",
    "    '0':'anger', '1':'disgust', '2':'fear', '3':'happy', '4':'sad', '5':'surprised', '6':'normal', \n",
    "}\n",
    "\n",
    "    \n",
    "def createDir(dir):\n",
    "    if os.path.exists(dir) is False:\n",
    "        os.makedirs(dir)\n",
    "\n",
    "def saveImageFromFer2013(file):\n",
    "    \n",
    "    print(\"Processing\")\n",
    "    faces_data = pd.read_csv(file)\n",
    "    imageCount = 0\n",
    "\n",
    "    for index in range(len(faces_data)):\n",
    "\n",
    "        emotion_data = faces_data.loc[index][0]\n",
    "        image_data = faces_data.loc[index][1]\n",
    "        usage_data = faces_data.loc[index][2]\n",
    "\n",
    "\n",
    "        data_array = list(map(float, image_data.split()))\n",
    "        data_array = np.asarray(data_array)\n",
    "        image = data_array.reshape(48, 48)\n",
    "\n",
    "        dirName = usage_data\n",
    "        emotionName = emotions[str(emotion_data)]\n",
    "        imagePath = os.path.join(dirName, emotionName)\n",
    "\n",
    "\n",
    "        createDir(dirName)\n",
    "        createDir(imagePath)\n",
    "\n",
    "        imageName = os.path.join(imagePath, str(index) + '.jpg') \n",
    "        saveImage = Image.fromarray(image)\n",
    "         \n",
    "        if saveImage.mode == \"F\":\n",
    "            saveImage = saveImage.convert('L')\n",
    "        saveImage.save(imageName)\n",
    "        #sm.toimage(image).save(imageName)\n",
    "        imageCount = index\n",
    "    \n",
    "    print('Totally： ' + str(imageCount) + ' images')\n",
    "\n",
    "if __name__ == '__main__':\n",
    "\n",
    "    saveImageFromFer2013('fer2013.csv')\n"
   ]
  },
  {
   "cell_type": "code",
   "execution_count": null,
   "metadata": {},
   "outputs": [],
   "source": []
  }
 ],
 "metadata": {
  "kernelspec": {
   "display_name": "Python 3",
   "language": "python",
   "name": "python3"
  },
  "language_info": {
   "codemirror_mode": {
    "name": "ipython",
    "version": 3
   },
   "file_extension": ".py",
   "mimetype": "text/x-python",
   "name": "python",
   "nbconvert_exporter": "python",
   "pygments_lexer": "ipython3",
   "version": "3.6.8"
  }
 },
 "nbformat": 4,
 "nbformat_minor": 2
}
